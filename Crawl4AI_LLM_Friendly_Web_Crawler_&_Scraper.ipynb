{
  "nbformat": 4,
  "nbformat_minor": 0,
  "metadata": {
    "colab": {
      "provenance": [],
      "gpuType": "T4"
    },
    "kernelspec": {
      "name": "python3",
      "display_name": "Python 3"
    },
    "language_info": {
      "name": "python"
    },
    "accelerator": "GPU"
  },
  "cells": [
    {
      "cell_type": "code",
      "source": [
        "!pip install -q requests beautifulsoup4 fake-useragent"
      ],
      "metadata": {
        "colab": {
          "base_uri": "https://localhost:8080/"
        },
        "id": "kbpXPqikpIXK",
        "outputId": "4dacfe21-b74d-4e26-a019-e7ffd9db11df"
      },
      "execution_count": 1,
      "outputs": [
        {
          "output_type": "stream",
          "name": "stdout",
          "text": [
            "\u001b[?25l   \u001b[90m━━━━━━━━━━━━━━━━━━━━━━━━━━━━━━━━━━━━━━━━\u001b[0m \u001b[32m0.0/125.8 kB\u001b[0m \u001b[31m?\u001b[0m eta \u001b[36m-:--:--\u001b[0m\r\u001b[2K   \u001b[90m━━━━━━━━━━━━━━━━━━━━━━━━━━━━━━━━━━━━━━━━\u001b[0m \u001b[32m125.8/125.8 kB\u001b[0m \u001b[31m4.3 MB/s\u001b[0m eta \u001b[36m0:00:00\u001b[0m\n",
            "\u001b[?25h"
          ]
        }
      ]
    },
    {
      "cell_type": "code",
      "source": [
        "import requests\n",
        "from bs4 import BeautifulSoup\n",
        "from fake_useragent import UserAgent\n",
        "import re\n"
      ],
      "metadata": {
        "id": "2M6WiUqqqOLE"
      },
      "execution_count": 2,
      "outputs": []
    },
    {
      "cell_type": "code",
      "execution_count": 3,
      "metadata": {
        "id": "ytk1Kd3Tf6wz"
      },
      "outputs": [],
      "source": [
        "# Basic Crawler Function\n",
        "def crawl_and_extract(url, keywords=None):\n",
        "    ua = UserAgent()\n",
        "    headers = {'User-Agent': ua.random}\n",
        "    try:\n",
        "        response = requests.get(url, headers=headers, timeout=10)\n",
        "        soup = BeautifulSoup(response.content, 'html.parser')\n",
        "\n",
        "        # Remove scripts and styles\n",
        "        for tag in soup(['script', 'style']):\n",
        "            tag.decompose()\n",
        "\n",
        "        text = soup.get_text(separator=' ')\n",
        "        text = re.sub(r'\\s+', ' ', text).strip()\n",
        "\n",
        "        if keywords:\n",
        "            found = {kw: kw in text.lower() for kw in keywords}\n",
        "            return text, found\n",
        "        return text, None\n",
        "    except Exception as e:\n",
        "        print(\"❌ Error fetching:\", url, str(e))\n",
        "        return None, None\n"
      ]
    },
    {
      "cell_type": "code",
      "source": [
        "# Example Usage\n",
        "url = \"https://en.wikipedia.org/wiki/Artificial_intelligence\"\n",
        "keywords = [\"machine learning\", \"natural language\", \"transformer\", \"chatbot\"]\n",
        "text, found_keywords = crawl_and_extract(url, keywords)\n",
        "\n",
        "print(\"\\n🔍 Found Keywords:\")\n",
        "print(found_keywords)\n",
        "\n",
        "print(\"\\n📝 Preview:\")\n",
        "print(text[:1000], \"...\")"
      ],
      "metadata": {
        "id": "BdnymnCggEBl",
        "colab": {
          "base_uri": "https://localhost:8080/"
        },
        "outputId": "6b29d219-baef-4e0e-a863-cc8fdb0f124c"
      },
      "execution_count": 4,
      "outputs": [
        {
          "output_type": "stream",
          "name": "stdout",
          "text": [
            "\n",
            "🔍 Found Keywords:\n",
            "{'machine learning': True, 'natural language': True, 'transformer': True, 'chatbot': True}\n",
            "\n",
            "📝 Preview:\n",
            "Artificial intelligence - Wikipedia Home Random Nearby Log in Settings Donate Now If Wikipedia is useful to you, please give today. About Wikipedia Disclaimers Search Artificial intelligence Article Talk Language Watch View source \"AI\" redirects here. For other uses, see AI (disambiguation) and Artificial intelligence (disambiguation) . Artificial intelligence ( AI ) refers to the capability of computational systems to perform tasks typically associated with human intelligence , such as learning, reasoning, problem-solving, perception, and decision-making. It is a field of research in computer science that develops and studies methods and software that enable machines to perceive their environment and use learning and intelligence to take actions that maximize their chances of achieving defined goals. [ 1 ] Such machines may be called AIs. High-profile applications of AI include advanced web search engines (e.g., Google Search ); recommendation systems (used by YouTube , Amazon , and N ...\n"
          ]
        }
      ]
    }
  ]
}